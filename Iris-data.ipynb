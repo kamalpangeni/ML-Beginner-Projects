{
 "cells": [
  {
   "cell_type": "markdown",
   "metadata": {},
   "source": [
    "# Importing libraries"
   ]
  },
  {
   "cell_type": "code",
   "execution_count": 59,
   "metadata": {},
   "outputs": [],
   "source": [
    "import pandas as pd\n",
    "import numpy as np\n",
    "import matplotlib.pyplot as plt\n",
    "%matplotlib inline "
   ]
  },
  {
   "cell_type": "code",
   "execution_count": 60,
   "metadata": {},
   "outputs": [
    {
     "name": "stdout",
     "output_type": "stream",
     "text": [
      "['.DS_Store', '.git', '.ipynb_checkpoints', 'bezdekIris.txt', 'Iris-data.ipynb', 'iris.txt']\n"
     ]
    }
   ],
   "source": [
    "import os\n",
    "files = os.listdir(os.curdir)        \n",
    "print(files)                               #looking inside the current directory"
   ]
  },
  {
   "cell_type": "markdown",
   "metadata": {},
   "source": [
    "# import data"
   ]
  },
  {
   "cell_type": "code",
   "execution_count": 61,
   "metadata": {},
   "outputs": [],
   "source": [
    "df=pd.read_csv('iris.txt',header=None)\n",
    "df.index=df.index+1                       # Re-indexing the table\n",
    "df.columns=['sepal$len','sepal$width','petal$len','petal$wid','type'] # Renaming the heading"
   ]
  },
  {
   "cell_type": "code",
   "execution_count": 62,
   "metadata": {},
   "outputs": [
    {
     "data": {
      "text/html": [
       "<div>\n",
       "<style>\n",
       "    .dataframe thead tr:only-child th {\n",
       "        text-align: right;\n",
       "    }\n",
       "\n",
       "    .dataframe thead th {\n",
       "        text-align: left;\n",
       "    }\n",
       "\n",
       "    .dataframe tbody tr th {\n",
       "        vertical-align: top;\n",
       "    }\n",
       "</style>\n",
       "<table border=\"1\" class=\"dataframe\">\n",
       "  <thead>\n",
       "    <tr style=\"text-align: right;\">\n",
       "      <th></th>\n",
       "      <th>sepal$len</th>\n",
       "      <th>sepal$width</th>\n",
       "      <th>petal$len</th>\n",
       "      <th>petal$wid</th>\n",
       "      <th>type</th>\n",
       "    </tr>\n",
       "  </thead>\n",
       "  <tbody>\n",
       "    <tr>\n",
       "      <th>1</th>\n",
       "      <td>5.1</td>\n",
       "      <td>3.5</td>\n",
       "      <td>1.4</td>\n",
       "      <td>0.2</td>\n",
       "      <td>Iris-setosa</td>\n",
       "    </tr>\n",
       "    <tr>\n",
       "      <th>2</th>\n",
       "      <td>4.9</td>\n",
       "      <td>3.0</td>\n",
       "      <td>1.4</td>\n",
       "      <td>0.2</td>\n",
       "      <td>Iris-setosa</td>\n",
       "    </tr>\n",
       "    <tr>\n",
       "      <th>3</th>\n",
       "      <td>4.7</td>\n",
       "      <td>3.2</td>\n",
       "      <td>1.3</td>\n",
       "      <td>0.2</td>\n",
       "      <td>Iris-setosa</td>\n",
       "    </tr>\n",
       "    <tr>\n",
       "      <th>4</th>\n",
       "      <td>4.6</td>\n",
       "      <td>3.1</td>\n",
       "      <td>1.5</td>\n",
       "      <td>0.2</td>\n",
       "      <td>Iris-setosa</td>\n",
       "    </tr>\n",
       "    <tr>\n",
       "      <th>5</th>\n",
       "      <td>5.0</td>\n",
       "      <td>3.6</td>\n",
       "      <td>1.4</td>\n",
       "      <td>0.2</td>\n",
       "      <td>Iris-setosa</td>\n",
       "    </tr>\n",
       "  </tbody>\n",
       "</table>\n",
       "</div>"
      ],
      "text/plain": [
       "   sepal$len  sepal$width  petal$len  petal$wid         type\n",
       "1        5.1          3.5        1.4        0.2  Iris-setosa\n",
       "2        4.9          3.0        1.4        0.2  Iris-setosa\n",
       "3        4.7          3.2        1.3        0.2  Iris-setosa\n",
       "4        4.6          3.1        1.5        0.2  Iris-setosa\n",
       "5        5.0          3.6        1.4        0.2  Iris-setosa"
      ]
     },
     "execution_count": 62,
     "metadata": {},
     "output_type": "execute_result"
    }
   ],
   "source": [
    "df.head() #view data frame"
   ]
  },
  {
   "cell_type": "code",
   "execution_count": 63,
   "metadata": {},
   "outputs": [],
   "source": [
    "# This function gives your differnt types within an array\n",
    "def types(array):   \n",
    "    newarray=[]\n",
    "    for a in range(len(array)):\n",
    "        if array[a] not in newarray:\n",
    "            newarray.append(array[a])\n",
    "    return newarray"
   ]
  },
  {
   "cell_type": "code",
   "execution_count": 64,
   "metadata": {},
   "outputs": [
    {
     "data": {
      "text/plain": [
       "['Iris-setosa', 'Iris-versicolor', 'Iris-virginica']"
      ]
     },
     "execution_count": 64,
     "metadata": {},
     "output_type": "execute_result"
    }
   ],
   "source": [
    "types(np.asarray(df)[:,4]) # so we see that therea are three different types"
   ]
  },
  {
   "cell_type": "code",
   "execution_count": 65,
   "metadata": {},
   "outputs": [],
   "source": [
    "# this simply counts how many of each type we have\n",
    "dfarray=np.asarray(df)\n",
    "def count(array,word):\n",
    "    i=0\n",
    "    for a in range(len(array)):\n",
    "        if array[a]==word:\n",
    "            i=i+1\n",
    "    return i "
   ]
  },
  {
   "cell_type": "code",
   "execution_count": 75,
   "metadata": {},
   "outputs": [],
   "source": [
    "# creates a table for iris-setosa\n",
    "num_setosa=count(np.asarray(df)[:,4],'Iris-setosa')\n",
    "setosa_array=np.zeros((num_setosa,len(dfarray[1])-1))\n",
    "for a in range(len(dfarray)):\n",
    "    if dfarray[a,4]=='Iris-setosa':\n",
    "        setosa_array[a,0:4]=dfarray[a,0:4]"
   ]
  },
  {
   "cell_type": "code",
   "execution_count": 102,
   "metadata": {},
   "outputs": [],
   "source": [
    "# creates a table for iris-versicolor\n",
    "num_versicolor=count(np.asarray(df)[:,4],'Iris-versicolor')\n",
    "versicolor_array=np.zeros((num_versicolor,len(dfarray[1])-1))\n",
    "i=0\n",
    "for a in range(len(dfarray)):\n",
    "    if dfarray[a,4]=='Iris-versicolor':\n",
    "        versicolor_array[i,0:4]=dfarray[a,0:4]\n",
    "        i=i+1"
   ]
  },
  {
   "cell_type": "code",
   "execution_count": 104,
   "metadata": {},
   "outputs": [],
   "source": [
    "# creates a table for iris-virginica\n",
    "num_virginica=count(np.asarray(df)[:,4],'Iris-virginica')\n",
    "virginica_array=np.zeros((num_virginica,len(dfarray[1])-1))\n",
    "i=0\n",
    "for a in range(len(dfarray)):\n",
    "    if dfarray[a,4]=='Iris-virginica':\n",
    "        virginica_array[i,0:4]=dfarray[a,0:4]\n",
    "        i=i+1"
   ]
  },
  {
   "cell_type": "markdown",
   "metadata": {},
   "source": [
    "# Plotting the data"
   ]
  },
  {
   "cell_type": "code",
   "execution_count": 105,
   "metadata": {},
   "outputs": [
    {
     "data": {
      "image/png": "[encoded data removed]",
      "text/plain": [
       "<matplotlib.figure.Figure at 0x1085b6da0>"
      ]
     },
     "metadata": {},
     "output_type": "display_data"
    }
   ],
   "source": [
    "df.plot.scatter(x=\"sepal$len\", y=\"sepal$width\") #Plot the whole data set\n",
    "plt.show()"
   ]
  },
  {
   "cell_type": "code",
   "execution_count": 108,
   "metadata": {},
   "outputs": [
    {
     "data": {
      "image/png": "[encoded data removed]",
      "text/plain": [
       "<matplotlib.figure.Figure at 0x107fde6d8>"
      ]
     },
     "metadata": {},
     "output_type": "display_data"
    }
   ],
   "source": [
    "plt.scatter(x=setosa_array[:,0],y=setosa_array[:,1], marker=\"s\",color=\"r\")\n",
    "plt.scatter(x=versicolor_array[:,0],y=versicolor_array[:,1], marker=\"o\",color=\"g\")\n",
    "plt.scatter(x=virginica_array[:,0],y=virginica_array[:,1], marker=\"x\",color=\"b\")\n",
    "plt.xlabel('sepal$len')\n",
    "plt.ylabel('sepal$width')\n",
    "plt.show()"
   ]
  },
  {
   "cell_type": "code",
   "execution_count": null,
   "metadata": {},
   "outputs": [],
   "source": []
  }
 ],
 "metadata": {
  "kernelspec": {
   "display_name": "Python 3",
   "language": "python",
   "name": "python3"
  },
  "language_info": {
   "codemirror_mode": {
    "name": "ipython",
    "version": 3
   },
   "file_extension": ".py",
   "mimetype": "text/x-python",
   "name": "python",
   "nbconvert_exporter": "python",
   "pygments_lexer": "ipython3",
   "version": "3.6.2"
  }
 },
 "nbformat": 4,
 "nbformat_minor": 2
}

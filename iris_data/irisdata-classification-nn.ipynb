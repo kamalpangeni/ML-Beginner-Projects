{
 "cells": [
  {
   "cell_type": "markdown",
   "metadata": {},
   "source": [
    "# Iris data classification using neutal network"
   ]
  },
  {
   "cell_type": "code",
   "execution_count": 1,
   "metadata": {},
   "outputs": [],
   "source": [
    "import pandas as pd\n",
    "import numpy as np\n",
    "import matplotlib.pyplot as plt\n",
    "%matplotlib inline "
   ]
  },
  {
   "cell_type": "code",
   "execution_count": 2,
   "metadata": {},
   "outputs": [
    {
     "name": "stdout",
     "output_type": "stream",
     "text": [
      "['.DS_Store', '.ipynb_checkpoints', 'bezdekIris.txt', 'iris-classification.ipynb', 'Iris-data.ipynb', 'iris.txt', 'irisdata-classification-nn.ipynb']\n"
     ]
    }
   ],
   "source": [
    "import os\n",
    "files = os.listdir(os.curdir)        \n",
    "print(files)                               #looking inside the current directory"
   ]
  },
  {
   "cell_type": "markdown",
   "metadata": {},
   "source": [
    "# reading data"
   ]
  },
  {
   "cell_type": "code",
   "execution_count": 5,
   "metadata": {},
   "outputs": [],
   "source": [
    "df=pd.read_csv('iris.txt',header=None)\n",
    "df.columns=['sepal$length','sepal$width','petal$length','petal$width','type'] # Renaming the heading"
   ]
  },
  {
   "cell_type": "code",
   "execution_count": 6,
   "metadata": {},
   "outputs": [
    {
     "data": {
      "text/html": [
       "<div>\n",
       "<style>\n",
       "    .dataframe thead tr:only-child th {\n",
       "        text-align: right;\n",
       "    }\n",
       "\n",
       "    .dataframe thead th {\n",
       "        text-align: left;\n",
       "    }\n",
       "\n",
       "    .dataframe tbody tr th {\n",
       "        vertical-align: top;\n",
       "    }\n",
       "</style>\n",
       "<table border=\"1\" class=\"dataframe\">\n",
       "  <thead>\n",
       "    <tr style=\"text-align: right;\">\n",
       "      <th></th>\n",
       "      <th>sepal$length</th>\n",
       "      <th>sepal$width</th>\n",
       "      <th>petal$length</th>\n",
       "      <th>petal$width</th>\n",
       "      <th>type</th>\n",
       "    </tr>\n",
       "  </thead>\n",
       "  <tbody>\n",
       "    <tr>\n",
       "      <th>0</th>\n",
       "      <td>5.1</td>\n",
       "      <td>3.5</td>\n",
       "      <td>1.4</td>\n",
       "      <td>0.2</td>\n",
       "      <td>Iris-setosa</td>\n",
       "    </tr>\n",
       "    <tr>\n",
       "      <th>1</th>\n",
       "      <td>4.9</td>\n",
       "      <td>3.0</td>\n",
       "      <td>1.4</td>\n",
       "      <td>0.2</td>\n",
       "      <td>Iris-setosa</td>\n",
       "    </tr>\n",
       "    <tr>\n",
       "      <th>2</th>\n",
       "      <td>4.7</td>\n",
       "      <td>3.2</td>\n",
       "      <td>1.3</td>\n",
       "      <td>0.2</td>\n",
       "      <td>Iris-setosa</td>\n",
       "    </tr>\n",
       "    <tr>\n",
       "      <th>3</th>\n",
       "      <td>4.6</td>\n",
       "      <td>3.1</td>\n",
       "      <td>1.5</td>\n",
       "      <td>0.2</td>\n",
       "      <td>Iris-setosa</td>\n",
       "    </tr>\n",
       "    <tr>\n",
       "      <th>4</th>\n",
       "      <td>5.0</td>\n",
       "      <td>3.6</td>\n",
       "      <td>1.4</td>\n",
       "      <td>0.2</td>\n",
       "      <td>Iris-setosa</td>\n",
       "    </tr>\n",
       "  </tbody>\n",
       "</table>\n",
       "</div>"
      ],
      "text/plain": [
       "   sepal$length  sepal$width  petal$length  petal$width         type\n",
       "0           5.1          3.5           1.4          0.2  Iris-setosa\n",
       "1           4.9          3.0           1.4          0.2  Iris-setosa\n",
       "2           4.7          3.2           1.3          0.2  Iris-setosa\n",
       "3           4.6          3.1           1.5          0.2  Iris-setosa\n",
       "4           5.0          3.6           1.4          0.2  Iris-setosa"
      ]
     },
     "execution_count": 6,
     "metadata": {},
     "output_type": "execute_result"
    }
   ],
   "source": [
    "df.head() #view data frame"
   ]
  },
  {
   "cell_type": "markdown",
   "metadata": {},
   "source": [
    "Next we want to look into dataframe. Specifically to see how many different types are there before\n",
    "we proceed with classification"
   ]
  },
  {
   "cell_type": "code",
   "execution_count": 7,
   "metadata": {},
   "outputs": [],
   "source": [
    "# This function gives your differnt types within an array\n",
    "def types(array):   \n",
    "    newarray=[]\n",
    "    for a in range(len(array)):\n",
    "        if array[a] not in newarray:\n",
    "            newarray.append(array[a])\n",
    "    return newarray"
   ]
  },
  {
   "cell_type": "code",
   "execution_count": 31,
   "metadata": {},
   "outputs": [
    {
     "data": {
      "text/plain": [
       "['Iris-setosa', 'Iris-versicolor', 'Iris-virginica']"
      ]
     },
     "execution_count": 31,
     "metadata": {},
     "output_type": "execute_result"
    }
   ],
   "source": [
    "types(np.asarray(df)[:,4]) # so we see that there are three different type "
   ]
  },
  {
   "cell_type": "markdown",
   "metadata": {},
   "source": [
    "Somtimes when the dataset is very large, this is easy way to determine differnt classes."
   ]
  },
  {
   "cell_type": "markdown",
   "metadata": {},
   "source": [
    "# Plotting the data"
   ]
  },
  {
   "cell_type": "code",
   "execution_count": 45,
   "metadata": {},
   "outputs": [
    {
     "data": {
      "image/png": "[encoded data removed]",
      "text/plain": [
       "<matplotlib.figure.Figure at 0x1109b93c8>"
      ]
     },
     "metadata": {},
     "output_type": "display_data"
    }
   ],
   "source": [
    "d1 = df[df.type=='Iris-setosa']\n",
    "d2=df[df.type=='Iris-versicolor']\n",
    "d3=df[df.type=='Iris-virginica']\n",
    "\n",
    "ax1=d1.plot.scatter(x=\"sepal$length\", y=\"sepal$width\", marker=\"s\",color=\"r\",label='setosa')\n",
    "ax2=d2.plot.scatter(x=\"sepal$length\", y=\"sepal$width\", marker=\"o\",color=\"g\",label='versicolor',ax=ax1)\n",
    "d3.plot.scatter(x=\"sepal$length\", y=\"sepal$width\", marker=\"x\",color=\"b\",label='virginica',ax=ax1)\n",
    "\n",
    "plt.xlabel('sepal$len')\n",
    "plt.ylabel('sepal$width')\n",
    "plt.legend(loc='upper right')\n",
    "\n",
    "plt.show()"
   ]
  },
  {
   "cell_type": "code",
   "execution_count": 48,
   "metadata": {},
   "outputs": [
    {
     "data": {
      "image/png": "[encoded data removed]",
      "text/plain": [
       "<matplotlib.figure.Figure at 0x11228d470>"
      ]
     },
     "metadata": {},
     "output_type": "display_data"
    }
   ],
   "source": [
    "d1 = df[df.type=='Iris-setosa']\n",
    "d2=df[df.type=='Iris-versicolor']\n",
    "d3=df[df.type=='Iris-virginica']\n",
    "\n",
    "ax1=d1.plot.scatter(x=\"petal$length\", y=\"petal$width\", marker=\"s\",color=\"r\",label='setosa')\n",
    "ax2=d2.plot.scatter(x=\"petal$length\", y=\"petal$width\", marker=\"o\",color=\"g\",label='versicolor',ax=ax1)\n",
    "d3.plot.scatter(x=\"petal$length\", y=\"petal$width\", marker=\"x\",color=\"b\",label='virginica',ax=ax1)\n",
    "\n",
    "plt.xlabel('petal$length')\n",
    "plt.ylabel('petal$width')\n",
    "plt.legend(loc='lower right')\n",
    "\n",
    "plt.show()"
   ]
  },
  {
   "cell_type": "markdown",
   "metadata": {},
   "source": [
    "If we are interested in classifying 'setosa' from others then a simple linear regression type analysis is sufficient.\n",
    "Let's do that first and then we will apply neural network to classify all there of them"
   ]
  },
  {
   "cell_type": "code",
   "execution_count": 49,
   "metadata": {},
   "outputs": [
    {
     "data": {
      "image/png": "[encoded data removed]",
      "text/plain": [
       "<matplotlib.figure.Figure at 0x1112696a0>"
      ]
     },
     "metadata": {},
     "output_type": "display_data"
    }
   ],
   "source": [
    "ax1=d1.plot.scatter(x=\"petal$length\", y=\"petal$width\", marker=\"s\",color=\"r\",label='setosa')\n",
    "ax2=d2.plot.scatter(x=\"petal$length\", y=\"petal$width\", marker=\"o\",color=\"g\",label='versicolor',ax=ax1)\n",
    "d3.plot.scatter(x=\"petal$length\", y=\"petal$width\", marker=\"x\",color=\"b\",label='virginica',ax=ax1)\n",
    "\n",
    "dfarray=np.asarray(df)\n",
    "from pylab import *\n",
    "x=[]\n",
    "for a in dfarray[:,2]:\n",
    "    x.append(a)\n",
    "y=[]\n",
    "for a in dfarray[:,3]:\n",
    "    y.append(a)\n",
    "(a,b)=polyfit(x,y,1)\n",
    "x=range(8)\n",
    "plt.plot(x,a*x+b)\n",
    "plt.plot(x,0.8-2.5*b+x*b)# this is my decision boundary line\n",
    "plt.xlabel('petal$len')\n",
    "plt.ylabel('petal$width')\n",
    "plt.legend(loc='center right')\n",
    "plt.show()"
   ]
  },
  {
   "cell_type": "code",
   "execution_count": 50,
   "metadata": {},
   "outputs": [],
   "source": [
    "#This returns true if the given feature fall under iris-ssetosa, else returns false\n",
    "def is_setosa(sepal_len,sepal_wid,petal_len,petal_wid): \n",
    "    if petal_wid<0.8-2.5*b+petal_len*b:\n",
    "        return True\n",
    "    else:\n",
    "        return False"
   ]
  },
  {
   "cell_type": "code",
   "execution_count": 51,
   "metadata": {},
   "outputs": [
    {
     "data": {
      "text/plain": [
       "True"
      ]
     },
     "execution_count": 51,
     "metadata": {},
     "output_type": "execute_result"
    }
   ],
   "source": [
    "is_setosa(dfarray[25,0],dfarray[25,1],dfarray[25,2],dfarray[25,3])"
   ]
  },
  {
   "cell_type": "markdown",
   "metadata": {},
   "source": [
    "Comment: We have used all our data to develop the model but ideally you would want to use about 80%\n",
    "    to develop the model and rest as test set. Next, I will use neural network to classfy the different species."
   ]
  },
  {
   "cell_type": "markdown",
   "metadata": {},
   "source": [
    "# Neural Network"
   ]
  },
  {
   "cell_type": "code",
   "execution_count": 52,
   "metadata": {},
   "outputs": [],
   "source": [
    "#mean normalization of the features\n",
    "df1=df[df.columns[0:4]]\n",
    "df2=df1.apply(lambda x: (x - np.mean(x)) / (np.max(x) - np.min(x)))"
   ]
  },
  {
   "cell_type": "code",
   "execution_count": 53,
   "metadata": {},
   "outputs": [],
   "source": [
    "df['y1']=np.zeros(len(df))\n",
    "df['y2']=np.zeros(len(df))\n",
    "\n",
    "df['y1']=np.where(df.type==\"Iris-setosa\",1,np.where(df.type=='Iris-versicolor',0,1))\n",
    "df['y2']=np.where(df.type==\"Iris-setosa\",0,np.where(df.type=='Iris-versicolor',1,1))\n"
   ]
  },
  {
   "cell_type": "markdown",
   "metadata": {},
   "source": [
    "in the above box,I added columns y1 and y2 to the dataframe. The purpose \n",
    "is to vectorize the differenet classes. (1,0)=iris-setosa, (0,1)=iris-versicolor \n",
    "and (1,1)=iris-virginica"
   ]
  },
  {
   "cell_type": "code",
   "execution_count": 55,
   "metadata": {},
   "outputs": [
    {
     "data": {
      "text/html": [
       "<div>\n",
       "<style>\n",
       "    .dataframe thead tr:only-child th {\n",
       "        text-align: right;\n",
       "    }\n",
       "\n",
       "    .dataframe thead th {\n",
       "        text-align: left;\n",
       "    }\n",
       "\n",
       "    .dataframe tbody tr th {\n",
       "        vertical-align: top;\n",
       "    }\n",
       "</style>\n",
       "<table border=\"1\" class=\"dataframe\">\n",
       "  <thead>\n",
       "    <tr style=\"text-align: right;\">\n",
       "      <th></th>\n",
       "      <th>sepal$length</th>\n",
       "      <th>sepal$width</th>\n",
       "      <th>petal$length</th>\n",
       "      <th>petal$width</th>\n",
       "      <th>type</th>\n",
       "      <th>y1</th>\n",
       "      <th>y2</th>\n",
       "    </tr>\n",
       "  </thead>\n",
       "  <tbody>\n",
       "    <tr>\n",
       "      <th>0</th>\n",
       "      <td>5.1</td>\n",
       "      <td>3.5</td>\n",
       "      <td>1.4</td>\n",
       "      <td>0.2</td>\n",
       "      <td>Iris-setosa</td>\n",
       "      <td>1</td>\n",
       "      <td>0</td>\n",
       "    </tr>\n",
       "    <tr>\n",
       "      <th>1</th>\n",
       "      <td>4.9</td>\n",
       "      <td>3.0</td>\n",
       "      <td>1.4</td>\n",
       "      <td>0.2</td>\n",
       "      <td>Iris-setosa</td>\n",
       "      <td>1</td>\n",
       "      <td>0</td>\n",
       "    </tr>\n",
       "    <tr>\n",
       "      <th>2</th>\n",
       "      <td>4.7</td>\n",
       "      <td>3.2</td>\n",
       "      <td>1.3</td>\n",
       "      <td>0.2</td>\n",
       "      <td>Iris-setosa</td>\n",
       "      <td>1</td>\n",
       "      <td>0</td>\n",
       "    </tr>\n",
       "    <tr>\n",
       "      <th>3</th>\n",
       "      <td>4.6</td>\n",
       "      <td>3.1</td>\n",
       "      <td>1.5</td>\n",
       "      <td>0.2</td>\n",
       "      <td>Iris-setosa</td>\n",
       "      <td>1</td>\n",
       "      <td>0</td>\n",
       "    </tr>\n",
       "    <tr>\n",
       "      <th>4</th>\n",
       "      <td>5.0</td>\n",
       "      <td>3.6</td>\n",
       "      <td>1.4</td>\n",
       "      <td>0.2</td>\n",
       "      <td>Iris-setosa</td>\n",
       "      <td>1</td>\n",
       "      <td>0</td>\n",
       "    </tr>\n",
       "  </tbody>\n",
       "</table>\n",
       "</div>"
      ],
      "text/plain": [
       "   sepal$length  sepal$width  petal$length  petal$width         type  y1  y2\n",
       "0           5.1          3.5           1.4          0.2  Iris-setosa   1   0\n",
       "1           4.9          3.0           1.4          0.2  Iris-setosa   1   0\n",
       "2           4.7          3.2           1.3          0.2  Iris-setosa   1   0\n",
       "3           4.6          3.1           1.5          0.2  Iris-setosa   1   0\n",
       "4           5.0          3.6           1.4          0.2  Iris-setosa   1   0"
      ]
     },
     "execution_count": 55,
     "metadata": {},
     "output_type": "execute_result"
    }
   ],
   "source": [
    "df.head()"
   ]
  },
  {
   "cell_type": "code",
   "execution_count": 58,
   "metadata": {},
   "outputs": [],
   "source": [
    "#sigmoid function\n",
    "def sigmoid(x,deriv=False):\n",
    "    if (deriv==True):\n",
    "        return x*(1-x)\n",
    "    return 1/(1+np.exp(-x))\n",
    "\n",
    "#weight functions\n",
    "weight0=2*np.random.random((4,6))-1\n",
    "weight1=2*np.random.random((6,2))-1"
   ]
  },
  {
   "cell_type": "code",
   "execution_count": 59,
   "metadata": {},
   "outputs": [
    {
     "name": "stdout",
     "output_type": "stream",
     "text": [
      "Error:0.442672989463\n",
      "Error:0.166886028711\n",
      "Error:0.166834270004\n",
      "Error:0.166879363528\n",
      "Error:0.00654827258333\n",
      "Error:0.00539980970184\n"
     ]
    }
   ],
   "source": [
    "y=np.asmatrix(pd.DataFrame.as_matrix(df[df.columns[5:7]]))  #150 time 3\n",
    "l0=pd.DataFrame.as_matrix(df[df.columns[0:4]])\n",
    "for j in range(60000):\n",
    "    l0=pd.DataFrame.as_matrix(df2)  #150 times 4\n",
    "    l1=sigmoid(np.dot(l0,weight0))                  #150 times 4 dot 4 times 6 = 150 times 6\n",
    "    l2=sigmoid(np.dot(l1,weight1))                  #150 times 6 dot 6 times 3 = 150 times 3\n",
    "\n",
    "    l2_error=y-l2                                   #150 times 3\n",
    "\n",
    "    if (j%10000)==0:\n",
    "        print('Error:'+str(np.mean(np.abs(l2_error))))\n",
    "\n",
    "    l2_delta=np.multiply(l2_error,sigmoid(l2,deriv=True))  #150 times 3\n",
    "\n",
    "    l1_error=l2_delta.dot(weight1.T)                       #150 times 3 dot 3 times 6= 150 times 6\n",
    "\n",
    "    l1_delta=np.multiply(l1_error,sigmoid(l1,deriv=True))  # 150 times times 6\n",
    "\n",
    "    weight1 += l1.T.dot(l2_delta)                          #6 times 150 dot 150 times 3= 6 times 3\n",
    "    weight0 +=l0.T.dot(l1_delta)     "
   ]
  },
  {
   "cell_type": "markdown",
   "metadata": {},
   "source": [
    "Comment: As mentioned earlier, I have again used all my data but ideally you want to use\n",
    "    about 80 percent and use the rest for cross validation and testing the model. "
   ]
  },
  {
   "cell_type": "code",
   "execution_count": null,
   "metadata": {},
   "outputs": [],
   "source": []
  }
 ],
 "metadata": {
  "kernelspec": {
   "display_name": "Python 3",
   "language": "python",
   "name": "python3"
  },
  "language_info": {
   "codemirror_mode": {
    "name": "ipython",
    "version": 3
   },
   "file_extension": ".py",
   "mimetype": "text/x-python",
   "name": "python",
   "nbconvert_exporter": "python",
   "pygments_lexer": "ipython3",
   "version": "3.6.2"
  }
 },
 "nbformat": 4,
 "nbformat_minor": 2
}

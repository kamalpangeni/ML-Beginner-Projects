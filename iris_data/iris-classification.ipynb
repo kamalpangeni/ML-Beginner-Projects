{
 "cells": [
  {
   "cell_type": "code",
   "execution_count": 2,
   "metadata": {},
   "outputs": [],
   "source": [
    "import pandas as pd\n",
    "import numpy as np\n",
    "import matplotlib.pyplot as plt"
   ]
  },
  {
   "cell_type": "code",
   "execution_count": 3,
   "metadata": {},
   "outputs": [],
   "source": [
    "#read csv files\n",
    "df=pd.read_csv('iris.txt',header=None)\n",
    "df.columns=[\"sepal$length\",\"sepal$width\",\"petal$length\",\"petal$width\",\"type\"]"
   ]
  },
  {
   "cell_type": "code",
   "execution_count": 4,
   "metadata": {},
   "outputs": [],
   "source": [
    "df1=df[df.columns[0:4]]\n",
    "df2=df1.apply(lambda x: (x - np.mean(x)) / (np.max(x) - np.min(x)))"
   ]
  },
  {
   "cell_type": "code",
   "execution_count": 5,
   "metadata": {},
   "outputs": [],
   "source": [
    "df['y1']=np.zeros(len(df))\n",
    "df['y2']=np.zeros(len(df))\n",
    "#df['y3']=np.zeros(len(df))\n",
    "df['y1']=np.where(df.type==\"Iris-setosa\",1,np.where(df.type=='Iris-versicolor',0,1))\n",
    "df['y2']=np.where(df.type==\"Iris-setosa\",0,np.where(df.type=='Iris-versicolor',1,1))\n",
    "#df['y3']=np.where(df.type==\"Iris-setosa\",0,np.where(df.type=='Iris-versicolor',0,1))"
   ]
  },
  {
   "cell_type": "code",
   "execution_count": 11,
   "metadata": {},
   "outputs": [],
   "source": [
    "#sigmoid function\n",
    "def sigmoid(x,deriv=False):\n",
    "    if (deriv==True):\n",
    "        return x*(1-x)\n",
    "    return 1/(1+np.exp(-x))\n",
    "\n",
    "#weight functions\n",
    "weight0=2*np.random.random((4,6))-1\n",
    "weight1=2*np.random.random((6,2))-1"
   ]
  },
  {
   "cell_type": "code",
   "execution_count": 16,
   "metadata": {},
   "outputs": [
    {
     "name": "stdout",
     "output_type": "stream",
     "text": [
      "Error:0.0072828366956\n",
      "Error:0.00563896014525\n",
      "Error:0.00509873627419\n",
      "Error:0.00481031787846\n",
      "Error:0.00462508375965\n",
      "Error:0.00449363472581\n"
     ]
    }
   ],
   "source": [
    "y=np.asmatrix(pd.DataFrame.as_matrix(df[df.columns[5:7]]))  #150 time 3\n",
    "l0=pd.DataFrame.as_matrix(df[df.columns[0:4]])\n",
    "for j in range(60000):\n",
    "    l0=pd.DataFrame.as_matrix(df2)  #150 times 4\n",
    "    l1=sigmoid(np.dot(l0,weight0))                  #150 times 4 dot 4 times 6 = 150 times 6\n",
    "    l2=sigmoid(np.dot(l1,weight1))                  #150 times 6 dot 6 times 3 = 150 times 3\n",
    "\n",
    "    l2_error=y-l2                                   #150 times 3\n",
    "\n",
    "    if (j%10000)==0:\n",
    "        print('Error:'+str(np.mean(np.abs(l2_error))))\n",
    "\n",
    "    l2_delta=np.multiply(l2_error,sigmoid(l2,deriv=True))  #150 times 3\n",
    "\n",
    "    l1_error=l2_delta.dot(weight1.T)                       #150 times 3 dot 3 times 6= 150 times 6\n",
    "\n",
    "    l1_delta=np.multiply(l1_error,sigmoid(l1,deriv=True))  # 150 times times 6\n",
    "\n",
    "    weight1 += l1.T.dot(l2_delta)                          #6 times 150 dot 150 times 3= 6 times 3\n",
    "    weight0 +=l0.T.dot(l1_delta)                           #4 times 150 dot 150 times 5= 4 times 6\n",
    "    "
   ]
  },
  {
   "cell_type": "code",
   "execution_count": 17,
   "metadata": {},
   "outputs": [
    {
     "data": {
      "text/plain": [
       "array([[ 0.9999943 ,  0.9999994 ],\n",
       "       [ 0.99999578,  0.99999944],\n",
       "       [ 0.99999914,  0.99999977],\n",
       "       [ 0.99998262,  0.99999927],\n",
       "       [ 0.99999981,  0.99999968],\n",
       "       [ 0.99999993,  0.99999984],\n",
       "       [ 0.99602409,  0.99999776],\n",
       "       [ 0.99999902,  0.99999977],\n",
       "       [ 0.99999801,  0.99999983],\n",
       "       [ 0.99999661,  0.99999946],\n",
       "       [ 0.99852593,  0.99999872],\n",
       "       [ 0.99999476,  0.99999971],\n",
       "       [ 0.99999525,  0.99999969],\n",
       "       [ 0.99999982,  0.99999972],\n",
       "       [ 0.99999991,  0.99999972],\n",
       "       [ 0.99999265,  0.99999939],\n",
       "       [ 0.99993062,  0.99999916],\n",
       "       [ 0.9996626 ,  0.99999873],\n",
       "       [ 0.99999994,  0.99999991],\n",
       "       [ 0.9881675 ,  0.99999976],\n",
       "       [ 0.9999994 ,  0.99999967],\n",
       "       [ 0.99995843,  0.9999991 ],\n",
       "       [ 0.99999924,  0.99999987],\n",
       "       [ 0.98862285,  0.9999996 ],\n",
       "       [ 0.99992453,  0.99999903],\n",
       "       [ 0.9999475 ,  0.99999937],\n",
       "       [ 0.99457264,  0.99999935],\n",
       "       [ 0.99253002,  0.99999807],\n",
       "       [ 0.9999999 ,  0.99999975],\n",
       "       [ 0.9802146 ,  0.99999951],\n",
       "       [ 0.99879815,  0.99999984],\n",
       "       [ 0.99518974,  0.99999825],\n",
       "       [ 0.99999995,  0.99999978],\n",
       "       [ 0.98291411,  0.99999878],\n",
       "       [ 0.99994884,  0.99999913],\n",
       "       [ 0.98847058,  0.99999987],\n",
       "       [ 0.99963788,  0.99999868],\n",
       "       [ 0.99862115,  0.99999833],\n",
       "       [ 0.97954635,  0.99999757],\n",
       "       [ 0.99991208,  0.99999962],\n",
       "       [ 0.99999987,  0.99999974],\n",
       "       [ 0.98871329,  0.99999971],\n",
       "       [ 0.99999578,  0.99999944],\n",
       "       [ 0.99999966,  0.99999965],\n",
       "       [ 0.99999957,  0.99999963],\n",
       "       [ 0.99998493,  0.99999974],\n",
       "       [ 0.99454749,  0.99999979],\n",
       "       [ 0.99996051,  0.99999946],\n",
       "       [ 0.99197093,  0.99999761],\n",
       "       [ 0.97898395,  0.99999707]])"
      ]
     },
     "execution_count": 17,
     "metadata": {},
     "output_type": "execute_result"
    }
   ],
   "source": [
    "l2[100:150]"
   ]
  },
  {
   "cell_type": "code",
   "execution_count": null,
   "metadata": {},
   "outputs": [],
   "source": []
  }
 ],
 "metadata": {
  "kernelspec": {
   "display_name": "Python 3",
   "language": "python",
   "name": "python3"
  },
  "language_info": {
   "codemirror_mode": {
    "name": "ipython",
    "version": 3
   },
   "file_extension": ".py",
   "mimetype": "text/x-python",
   "name": "python",
   "nbconvert_exporter": "python",
   "pygments_lexer": "ipython3",
   "version": "3.6.2"
  }
 },
 "nbformat": 4,
 "nbformat_minor": 2
}
